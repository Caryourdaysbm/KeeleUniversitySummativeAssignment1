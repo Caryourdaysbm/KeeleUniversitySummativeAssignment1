{
  "cells": [
    {
      "cell_type": "markdown",
      "metadata": {
        "id": "wm0zTKXY1IHU"
      },
      "source": [
        "# Summative Assignment 1\n",
        "## Task 1\n",
        "This task requires reading books.csv and bookloans.csv into nested lists or dictionaries and ensuring\n",
        "to have a list of valid book loans. It requires processing to produce a printed report. Considering the validity of the data used in the report or the statistics will be wrong.\n",
        "A report of books borrowed in 2023 is required listing the returned book number, book title, author,\n",
        "and the number of days borrowed. This should be a valid list excluding the false books and non-\n",
        "returned borrows.\n"
      ]
    },
    {
      "cell_type": "markdown",
      "metadata": {
        "id": "g2PWjp9I3VBd"
      },
      "source": [
        "We want to identify and show the least popular and most popular books.\n"
      ]
    },
    {
      "cell_type": "markdown",
      "metadata": {
        "id": "M0wtblLU3owI"
      },
      "source": [
        "### 1. Read CSV Files:\n",
        "\n",
        "Read books.csv and bookloans.csv into nested lists or dictionaries"
      ]
    },
    {
      "cell_type": "code",
      "execution_count": null,
      "metadata": {
        "colab": {
          "base_uri": "https://localhost:8080/"
        },
        "id": "LmC0Q_-hl_Wn",
        "outputId": "b7951335-e9e6-413a-af1b-7fd714c39ca6"
      },
      "outputs": [],
      "source": [
        "import csv\n",
        "\n",
        "# we create function that reads a csv file, appends it to a list\n",
        "def read_csv(file_path):\n",
        "    \"\"\"\n",
        "    Read a CSV file and return its data as a nested list.\n",
        "\n",
        "    Args:\n",
        "    - file_path (str): The path to the CSV file.\n",
        "\n",
        "    Returns:\n",
        "    - list of lists: The CSV data represented as a nested list.\n",
        "    \"\"\"\n",
        "    data = []\n",
        "    with open(file_path, 'r', newline='', encoding='utf-8') as file:\n",
        "        reader = csv.reader(file)\n",
        "        for row in reader:\n",
        "            data.append(row)\n",
        "    return data\n",
        "\n",
        "# Calling the function to read books.csv\n",
        "books_data = read_csv('./books.csv')\n",
        "## Printing the result\n",
        "print(books_data)\n",
        "\n",
        "# Calling the function to read bookloans.csv\n",
        "bookloans_data = read_csv('./bookloans.csv')\n",
        "print(\"Bookloans : \\n\", bookloans_data)\n"
      ]
    },
    {
      "cell_type": "code",
      "execution_count": null,
      "metadata": {
        "id": "7BO8039qs_e3"
      },
      "outputs": [],
      "source": []
    },
    {
      "cell_type": "markdown",
      "metadata": {
        "id": "XkHZR5eS7qiE"
      },
      "source": [
        "### 2. Process Data from bookloans.csv:\n",
        "\n",
        "a. Filter out invalid loan transactions. \\\n",
        "b. Calculate the number of days each book was borrowed. \\\n",
        "c. Count the number of times each book was borrowed.\n",
        "\n"
      ]
    },
    {
      "cell_type": "code",
      "execution_count": null,
      "metadata": {
        "colab": {
          "base_uri": "https://localhost:8080/"
        },
        "id": "IdJ_dlud8h1s",
        "outputId": "4b6bdb76-4503-4d68-8fb2-0cc5da1420c7"
      },
      "outputs": [],
      "source": [
        "''' we create a function to filter out invalid loan transaction:\n",
        " Invalid transactions are those that were not returned during the year 2023 or have a date_of_return of 0.\n",
        "  We'll only consider transactions with valid return dates in 2023. '''\n",
        "\n",
        "def process_loan_data(loan_data):\n",
        "    \"\"\"\n",
        "    Process loan data to filter out invalid transactions, calculate days borrowed,\n",
        "    and count the number of times each book was borrowed.\n",
        "\n",
        "    Args:\n",
        "    - loan_data (list of lists): Loan data as a nested list.\n",
        "\n",
        "    Returns:\n",
        "    - dict: A dictionary containing book numbers as keys and their statistics as values.\n",
        "            The statistics include total number of borrowings and total days borrowed.\n",
        "    \"\"\"\n",
        "    book_stats = {}\n",
        "    for transaction in loan_data:\n",
        "        book_number, _, date_of_loan, date_of_return = transaction\n",
        "\n",
        "        # Convert date strings to integers\n",
        "        date_of_loan = int(date_of_loan)\n",
        "        date_of_return = int(date_of_return)\n",
        "\n",
        "        # Check if transaction is returned during 2023\n",
        "        if date_of_return != 0 and date_of_return >= 44927 and date_of_return <= 45291:\n",
        "            # we calculate the number of days each book was borrowed.\n",
        "            # Calculate days borrowed\n",
        "            days_borrowed = date_of_return - date_of_loan\n",
        "            # Update book statistics\n",
        "            if book_number not in book_stats:\n",
        "                book_stats[book_number] = {'borrow_count': 1, 'total_days_borrowed': days_borrowed}\n",
        "            else:\n",
        "                book_stats[book_number]['borrow_count'] += 1\n",
        "                book_stats[book_number]['total_days_borrowed'] += days_borrowed\n",
        "    # Process loan data\n",
        "    # we check for transaction with a date of return = 0 and filter is out\n",
        "    for row in loan_data:\n",
        "        if row[3] != '0':\n",
        "            return book_stats\n",
        "\n",
        "\n",
        "\n",
        "\n",
        "book_statistics = process_loan_data(bookloans_data)\n",
        "print(book_statistics)\n",
        "#\n",
        "for book_number, stats in book_statistics.items():\n",
        "    print(f\"Book {book_number}: Borrowed {stats['borrow_count']} times, Total days borrowed: {stats['total_days_borrowed']}\")\n"
      ]
    },
    {
      "cell_type": "markdown",
      "metadata": {
        "id": "p9_9t1EsL191"
      },
      "source": [
        "## 3. Generate Report:\n",
        "Create a report listing returned book number, title, author, and number of days borrowed.\n",
        "Sort the report by reverse order of popularity (number of days borrowed)."
      ]
    },
    {
      "cell_type": "code",
      "execution_count": null,
      "metadata": {
        "colab": {
          "base_uri": "https://localhost:8080/"
        },
        "id": "6mI-xfkHeEFK",
        "outputId": "2978f281-8f42-411e-a8e4-7677679be78a"
      },
      "outputs": [],
      "source": [
        "def fetch_book_info(book_number, books_data):\n",
        "    \"\"\"\n",
        "    Fetch book information (title and author) based on book number.\n",
        "    Args:\n",
        "    - book_number (str): The book number.\n",
        "    - books_data (list of lists): Data from books.csv as a nested list.\n",
        "\n",
        "    Returns:\n",
        "    - tuple: A tuple containing title and author of the book.\n",
        "    \"\"\"\n",
        "    for book in books_data:\n",
        "        if book[0] == book_number:\n",
        "            return book[1], book[2]\n",
        "    return None, None\n",
        "\n",
        "def generate_report(book_statistics, books_data):\n",
        "    \"\"\"\n",
        "    Generate a report listing returned book number, title, author, and number of days borrowed,\n",
        "    sorted by reverse order of popularity (number of days borrowed).\n",
        "\n",
        "    Args:\n",
        "    - book_statistics (dict): Statistics for each book containing number of borrowings and total days borrowed.\n",
        "    - books_data (list of lists): Data from books.csv as a nested list.\n",
        "\n",
        "    Returns:\n",
        "    - list of tuples: A list of tuples containing book number, title, author, and number of days borrowed.\n",
        "    \"\"\"\n",
        "    report_data = []\n",
        "    for book_number, stats in book_statistics.items():\n",
        "        title, author = fetch_book_info(book_number, books_data)\n",
        "        if title and author:  # If book information is available\n",
        "            report_data.append((book_number, title, author, stats['total_days_borrowed']))\n",
        "\n",
        "    # Sort report data by total days borrowed in reverse order\n",
        "    report_data.sort(key=lambda x: x[3], reverse=True)\n",
        "\n",
        "    return report_data\n",
        "\n",
        "# Generate report\n",
        "report = generate_report(book_statistics, books_data)\n",
        "\n",
        "# Print report\n",
        "for book in report:\n",
        "    print(f\"Book Number: {book[0]}, Title: {book[1]}, Author: {book[2]}, Days Borrowed: {book[3]}\")"
      ]
    },
    {
      "cell_type": "markdown",
      "metadata": {
        "id": "xodnZy7Sezp_"
      },
      "source": [
        "# Task 2\n",
        "The library is keen to know the interests of its readers to influence purchasing decisions. The books\n",
        "have different genres. You cannot assume all genres were borrowed; we are only interested in those\n",
        "that were.\n",
        "\n",
        "This task involve producing a popularity report of all genres of books borrowed in 2023 and how\n",
        "many books are in that genre.\n"
      ]
    },
    {
      "cell_type": "markdown",
      "metadata": {
        "id": "wvRIrswhf9Wm"
      },
      "source": []
    },
    {
      "cell_type": "markdown",
      "metadata": {
        "id": "BoQbKyx8fl94"
      },
      "source": [
        "To solve Task 2, we will need to:"
      ]
    },
    {
      "cell_type": "markdown",
      "metadata": {
        "id": "0PTHiLMCf3RD"
      },
      "source": [
        "## 1.  Extract the genres from the books.csv data."
      ]
    },
    {
      "cell_type": "code",
      "execution_count": null,
      "metadata": {
        "colab": {
          "base_uri": "https://localhost:8080/"
        },
        "id": "13s2CNy1gGK_",
        "outputId": "d9aaff3a-cc1e-4786-e40c-9673c9503311"
      },
      "outputs": [],
      "source": [
        "''' This function extracts unique genres from the books data.\n",
        " It iterates over the books data,\n",
        "  splits the genre strings (assuming they are separated by commas),\n",
        "and adds them to a set to ensure uniqueness. '''\n",
        "\n",
        "def extract_genres(books_data):\n",
        "    \"\"\"\n",
        "    Extract genres from the books data.\n",
        "\n",
        "    Args:\n",
        "    - books_data (list of lists): Data from books.csv as a nested list.\n",
        "\n",
        "    Returns:\n",
        "    - list: A list of unique genres extracted from the books data.\n",
        "    \"\"\"\n",
        "    genres = set()\n",
        "    for book in books_data[1:]:  # Skip header row\n",
        "        genres.update(book[3].split(','))  # Assuming genres are separated by commas\n",
        "    return list(genres)\n",
        "\n",
        "genres = extract_genres(books_data)\n",
        "print(genres)"
      ]
    },
    {
      "cell_type": "markdown",
      "metadata": {
        "id": "FXAVW1yEgcP1"
      },
      "source": [
        "## 2. Count the number of books borrowed in each genre."
      ]
    },
    {
      "cell_type": "code",
      "execution_count": null,
      "metadata": {
        "colab": {
          "base_uri": "https://localhost:8080/"
        },
        "id": "X9uEECoshAKr",
        "outputId": "2b7ba10f-d4c0-4795-af96-75e6a013c502"
      },
      "outputs": [],
      "source": [
        "''' This function counts the number of books borrowed in each genre.\n",
        " It iterates over the book statistics,\n",
        " retrieves the genres for each book from the books data,\n",
        "and increments the count for each genre accordingly. '''\n",
        "def count_books_borrowed_by_genre(genres, book_statistics, books_data):\n",
        "    \"\"\"\n",
        "    Count the number of books borrowed in each genre.\n",
        "\n",
        "    Args:\n",
        "    - genres (list): A list of unique genres.\n",
        "    - book_statistics (dict): Statistics for each book containing number of borrowings and total days borrowed.\n",
        "    - books_data (list of lists): Data from books.csv as a nested list.\n",
        "\n",
        "    Returns:\n",
        "    - dict: A dictionary containing genres as keys and the number of books borrowed in each genre as values.\n",
        "    \"\"\"\n",
        "    genre_counts = {genre: 0 for genre in genres}\n",
        "    for book in books_data[1:]:  # Skip header row\n",
        "        _, _, _, genre_str, _, _, = book\n",
        "        book_genres = genre_str.split(',')\n",
        "        for genre in book_genres:\n",
        "            genre_counts[genre] += 1\n",
        "    return genre_counts\n",
        "\n",
        "genre_counts = count_books_borrowed_by_genre(genres, book_statistics, books_data)\n",
        "print(genre_counts)\n",
        "\n",
        "\n"
      ]
    },
    {
      "cell_type": "markdown",
      "metadata": {
        "id": "ZgCnPRa0sjjb"
      },
      "source": [
        "## 3. Generate Report:\n",
        "\n",
        "We create a report listing each genre and the number of books borrowed in that genre and sort the report as needed."
      ]
    },
    {
      "cell_type": "code",
      "execution_count": null,
      "metadata": {
        "colab": {
          "base_uri": "https://localhost:8080/"
        },
        "id": "e1dRjl0Us4KX",
        "outputId": "7a472c50-ffb2-4422-9000-33b70699ba56"
      },
      "outputs": [],
      "source": [
        "''' This function generates a report listing each genre along with the number of books borrowed in that genre.\n",
        " It sorts the report data based on the count of books borrowed in each genre, in reverse order.'''\n",
        "\n",
        "def generate_genre_report(genre_counts):\n",
        "    \"\"\"\n",
        "    Generate a report listing each genre and the number of books borrowed in that genre.\n",
        "\n",
        "    Args:\n",
        "    - genre_counts (dict): A dictionary containing genres as keys and the number of books borrowed in each genre as values.\n",
        "\n",
        "    Returns:\n",
        "    - list of tuples: A list of tuples containing genre and the number of books borrowed in that genre.\n",
        "    \"\"\"\n",
        "    report_data = [(genre, count) for genre, count in genre_counts.items()]\n",
        "    # Sort report data as needed (e.g., by count)\n",
        "    report_data.sort(key=lambda x: x[1], reverse=True)\n",
        "    return report_data\n",
        "# Generate genre report\n",
        "genre_report = generate_genre_report(genre_counts)\n",
        "## finally, we print the genre report containing the required information for each genre.\n",
        "for genre, count in genre_report:\n",
        "  print(f\"Genre: {genre}, Number of Books Borrowed: {count}\")"
      ]
    },
    {
      "cell_type": "code",
      "execution_count": null,
      "metadata": {
        "colab": {
          "base_uri": "https://localhost:8080/"
        },
        "id": "wNCM_0O_yHrj",
        "outputId": "220512b5-78de-4860-ccb7-7f15d7aeef0c"
      },
      "outputs": [],
      "source": [
        "print(bookloans_data)"
      ]
    },
    {
      "cell_type": "code",
      "execution_count": null,
      "metadata": {
        "colab": {
          "base_uri": "https://localhost:8080/"
        },
        "id": "-_YCyUzOs50F",
        "outputId": "54d9ed75-f347-42d8-9b39-b120a4482897"
      },
      "outputs": [],
      "source": [
        "def calculate_loan_statistics(book_statistics):\n",
        "    \"\"\"\n",
        "    Calculate loan statistics from book statistics.\n",
        "\n",
        "    Args:\n",
        "    - book_statistics (dict): Dictionary containing statistics for each book.\n",
        "\n",
        "    Returns:\n",
        "    - dict: Dictionary containing loan statistics.\n",
        "    \"\"\"\n",
        "    num_loans = sum(stats['borrow_count'] for stats in book_statistics.values())\n",
        "    total_days_borrowed = sum(stats['total_days_borrowed'] for stats in book_statistics.values())\n",
        "\n",
        "    num_late_returns = sum(1 for stats in book_statistics.values() if stats['total_days_borrowed'] > 14)\n",
        "    total_days_late = sum(max(0, stats['total_days_borrowed'] - 14) for stats in book_statistics.values() if stats['total_days_borrowed'] > 14)\n",
        "\n",
        "    average_loan_duration = total_days_borrowed / num_loans if num_loans > 0 else 0\n",
        "    proportion_late_returns = num_late_returns / num_loans if num_loans > 0 else 0\n",
        "    average_late_period = total_days_late / num_late_returns if num_late_returns > 0 else 0\n",
        "\n",
        "    loan_statistics = {\n",
        "        'Number of loans': num_loans,\n",
        "        'Total days borrowed': total_days_borrowed,\n",
        "        'Number of late returns': num_late_returns,\n",
        "        'Total days late': total_days_late,\n",
        "        'Average loan duration': average_loan_duration,\n",
        "        'Proportion of late returns': proportion_late_returns,\n",
        "        'Average late period': average_late_period\n",
        "    }\n",
        "\n",
        "    return loan_statistics\n",
        "\n",
        "# Example usage:\n",
        "loan_statistics = calculate_loan_statistics(book_statistics)\n",
        "for key, value in loan_statistics.items():\n",
        "    print(f\"{key}: {value}\")\n"
      ]
    }
  ],
  "metadata": {
    "colab": {
      "provenance": []
    },
    "kernelspec": {
      "display_name": "Python 3",
      "name": "python3"
    },
    "language_info": {
      "codemirror_mode": {
        "name": "ipython",
        "version": 3
      },
      "file_extension": ".py",
      "mimetype": "text/x-python",
      "name": "python",
      "nbconvert_exporter": "python",
      "pygments_lexer": "ipython3",
      "version": "3.12.0"
    }
  },
  "nbformat": 4,
  "nbformat_minor": 0
}
